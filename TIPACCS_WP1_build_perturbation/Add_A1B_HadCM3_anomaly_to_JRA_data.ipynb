{
 "cells": [
  {
   "cell_type": "code",
   "execution_count": 1,
   "id": "7caece9b",
   "metadata": {},
   "outputs": [],
   "source": [
    "import xarray as xr\n",
    "import numpy  as np\n",
    "import pandas as pd\n",
    "from datetime import datetime\n",
    "import calendar\n",
    "import copy"
   ]
  },
  {
   "cell_type": "code",
   "execution_count": 2,
   "id": "10c71774",
   "metadata": {},
   "outputs": [],
   "source": [
    "# data dir path\n",
    "cdir='./'\n",
    "\n",
    "# list of file variables to process and the corresponding infile variables\n",
    "fvarlst_ano=['Q_1_5M','LW_TOTAL_DOWNWARD_SURFACE','P_SURF','SW_TOTAL_DOWNWARD_SURFACE','TOTAL_PRECIP','T_AIR_1_5M','U_10M','V_10M']\n",
    "cvarlst_ano=['dq'    ,'dilr'                     ,'dp'    ,'dfield203'                ,'dprecip'     ,'dtemp'     ,'du'   ,   'dv']\n",
    "\n",
    "fvarlst_JRA=['huss'  ,'rlds'                     ,'psl'   ,'rsds'                     ,'tprecip'     ,'ts'        ,'uas'  ,'vas']\n",
    "cvarlst_JRA=['huss'  ,'rlds'                     ,'psl'   ,'rsds'                     ,'tprecip'     ,'ts'        ,'uas'  ,'vas']\n",
    "\n",
    "# input file name extension\n",
    "cfin_ext='20602100-19792019'\n",
    "#cfin_ext='21602200-19792019'\n",
    "\n",
    "yJRAs=2000\n",
    "yJRAe=2000"
   ]
  },
  {
   "cell_type": "markdown",
   "id": "b9b94efd",
   "metadata": {},
   "source": [
    "## Add HadCM3 anomaly data to JRA data"
   ]
  },
  {
   "cell_type": "code",
   "execution_count": null,
   "id": "36db22ab",
   "metadata": {},
   "outputs": [
    {
     "name": "stdout",
     "output_type": "stream",
     "text": [
      "    load HadCM3 data ...\n",
      "        file : ./A1B_Q_1_5M_3h_ano_20602100-19792019_on_JRA_grid.NC\n",
      "    load JRA data 2000 ...\n",
      "        file : drowned_huss_JRA55_y2000.nc\n",
      "    year 2000 is a leap year, repeat last frame over 1 day ...\n",
      "    add anomaly to JRA data ...\n",
      "    update global attributes ...\n",
      "    write output file ...\n",
      "        file :  drowned_huss_JRA55_perturbed_A1B_HadCM3_20602100-19792019_anomaly_y2000.nc\n",
      "\n",
      "\n",
      "    load HadCM3 data ...\n",
      "        file : ./A1B_LW_TOTAL_DOWNWARD_SURFACE_3h_ano_20602100-19792019_on_JRA_grid.NC\n",
      "    load JRA data 2000 ...\n",
      "        file : drowned_rlds_JRA55_y2000.nc\n",
      "    year 2000 is a leap year, repeat last frame over 1 day ...\n",
      "    add anomaly to JRA data ...\n",
      "    update global attributes ...\n",
      "    write output file ...\n",
      "        file :  drowned_rlds_JRA55_perturbed_A1B_HadCM3_20602100-19792019_anomaly_y2000.nc\n",
      "\n",
      "\n",
      "    load HadCM3 data ...\n",
      "        file : ./A1B_P_SURF_3h_ano_20602100-19792019_on_JRA_grid.NC\n",
      "    load JRA data 2000 ...\n",
      "        file : drowned_psl_JRA55_y2000.nc\n",
      "    year 2000 is a leap year, repeat last frame over 1 day ...\n",
      "    add anomaly to JRA data ...\n",
      "    update global attributes ...\n",
      "    write output file ...\n",
      "        file :  drowned_psl_JRA55_perturbed_A1B_HadCM3_20602100-19792019_anomaly_y2000.nc\n",
      "\n",
      "\n",
      "    load HadCM3 data ...\n",
      "        file : ./A1B_SW_TOTAL_DOWNWARD_SURFACE_3h_ano_20602100-19792019_on_JRA_grid.NC\n",
      "    load JRA data 2000 ...\n",
      "        file : drowned_rsds_JRA55_y2000.nc\n",
      "    year 2000 is a leap year, repeat last frame over 1 day ...\n",
      "    add anomaly to JRA data ...\n"
     ]
    }
   ],
   "source": [
    "for ivar,fvar in enumerate(fvarlst_ano):\n",
    "    cvar_ano=cvarlst_ano[ivar]\n",
    "    cvar_JRA=cvarlst_JRA[ivar]\n",
    "\n",
    "    # load data anomaly\n",
    "    print('    load HadCM3 data ...')\n",
    "    cfin_ano='./A1B_{}_3h_ano_{}_on_JRA_grid.NC'.format(fvar,cfin_ext)\n",
    "    print('        file : {}'.format(cfin_ano))\n",
    "    ds_ano = xr.open_dataset('./DATA_out/'+cfin_ano)\n",
    "    \n",
    "    for year in range(yJRAs,yJRAe+1):\n",
    "        year_out=year\n",
    "        \n",
    "        # load JRA data\n",
    "        print('    load JRA data '+str(year)+' ...')\n",
    "        cfin_JRA='drowned_{}_JRA55_y{}.nc'.format(cvar_JRA,year)\n",
    "        print('        file : {}'.format(cfin_JRA))\n",
    "        ds_JRA = xr.open_dataset('./DATA_in/JRA/'+cfin_JRA)\n",
    "\n",
    "        # if leap year repeat last frame 8 times (ie one day)\n",
    "        if calendar.isleap(year):\n",
    "            print('    year {} is a leap year, repeat last frame over 1 day ...'.format(year))\n",
    "            ds_tmp=ds_ano.isel(time=slice(-1,None,1))\n",
    "            ds_tmp['time']=ds_tmp['time']+pd.Timedelta(hours=3)\n",
    "            ds_leap=copy.deepcopy(ds_tmp)\n",
    "            for ih in range(7):\n",
    "                ds_tmp['time']=ds_tmp['time']+pd.Timedelta(hours=3)\n",
    "                ds_leap = xr.concat([ds_leap,ds_tmp],dim='time')\n",
    "\n",
    "            ds_ano=xr.concat([ds_ano,ds_leap],dim='time')\n",
    "\n",
    "        # add dataset\n",
    "        print('    add anomaly to JRA data ...')\n",
    "        ds_out = copy.deepcopy(ds_JRA)\n",
    "        ds_out[cvar_JRA].values = ds_JRA[cvar_JRA].values + ds_ano[cvar_ano].values\n",
    "\n",
    "        # correct attributes\n",
    "        print('    update global attributes ...')\n",
    "        ds_out.attrs['Description']='JRA data plus A1B HadCM3 {} anomaly ({}) creating by {}'.format(cfin_ext, cfin_ano, 'Add_A1B_HadCM3_anomaly_to_JRA_data.py')\n",
    "        ds_out.attrs['Contact']='P. Mathiot (IGE)'\n",
    "        ds_out.attrs['Creation date'] = '{}'.format(datetime.now())\n",
    "        \n",
    "        # write dataset\n",
    "        cfout='drowned_{}_JRA55_perturbed_A1B_HadCM3_{}_anomaly_y{:d}.nc'.format(cvar_JRA,cfin_ext,year_out)\n",
    "        print('    write output file ...')\n",
    "        print('        file : ',cfout)\n",
    "        ds_out.to_netcdf('DATA_out/JRA55_perturb/'+cfout)\n",
    "        print()\n",
    "        print()"
   ]
  }
 ],
 "metadata": {
  "kernelspec": {
   "display_name": "A1B_perturbation",
   "language": "python",
   "name": "a1b_perturbation"
  },
  "language_info": {
   "codemirror_mode": {
    "name": "ipython",
    "version": 3
   },
   "file_extension": ".py",
   "mimetype": "text/x-python",
   "name": "python",
   "nbconvert_exporter": "python",
   "pygments_lexer": "ipython3",
   "version": "3.7.10"
  }
 },
 "nbformat": 4,
 "nbformat_minor": 5
}
