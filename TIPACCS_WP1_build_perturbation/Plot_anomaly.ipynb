{
 "cells": [
  {
   "cell_type": "markdown",
   "id": "5e689e7b",
   "metadata": {},
   "source": [
    "# Notebook to plot anomaly built"
   ]
  },
  {
   "cell_type": "markdown",
   "id": "23f9a564",
   "metadata": {},
   "source": [
    "## import module"
   ]
  },
  {
   "cell_type": "code",
   "execution_count": null,
   "id": "3932c87a",
   "metadata": {},
   "outputs": [],
   "source": [
    "import numpy as np\n",
    "import xarray as xr\n",
    "import matplotlib.pyplot as plt\n",
    "from matplotlib.dates import DateFormatter\n",
    "import cartopy\n",
    "import cartopy.crs as ccrs"
   ]
  },
  {
   "cell_type": "markdown",
   "id": "b33eb5c1",
   "metadata": {},
   "source": [
    "## parameters"
   ]
  },
  {
   "cell_type": "code",
   "execution_count": null,
   "id": "a203a6bd",
   "metadata": {},
   "outputs": [],
   "source": [
    "# data dir path\n",
    "cdir='DATA_out'\n",
    "\n",
    "# list of file variables to process and the corresponding infile variables\n",
    "fvarlst=['Q_1_5M','LW_TOTAL_DOWNWARD_SURFACE','P_SURF','SW_TOTAL_DOWNWARD_SURFACE','TOTAL_PRECIP','T_AIR_1_5M','U_10M','V_10M']\n",
    "cvarlst =['dq'   ,'dilr'                     ,'dp'    ,'dfield203'                ,'dprecip'     ,'dtemp'     ,'du'   ,'dv']\n",
    "\n",
    "# trg period\n",
    "period='20602100' #'21602200' #2160-2200"
   ]
  },
  {
   "cell_type": "markdown",
   "id": "7bf7e6d0",
   "metadata": {},
   "source": [
    "## Process data"
   ]
  },
  {
   "cell_type": "code",
   "execution_count": null,
   "id": "515c666a",
   "metadata": {},
   "outputs": [],
   "source": [
    "# define figure\n",
    "fig=plt.figure(figsize=(np.array([400,120*6]) / 25.4))\n",
    "grid = plt.GridSpec(len(fvarlst), 3, wspace=0.2, hspace=0.3)\n",
    "\n",
    "# process all data\n",
    "for ivar, fvar in enumerate(fvarlst):\n",
    "    cvar=cvarlst[ivar]\n",
    "    \n",
    "    # load data\n",
    "    print('    load anomaly data ...')\n",
    "    cfile='{}/A1B_{}_3h_ano_{}-19792019.NC'.format(cdir,fvar,period)\n",
    "    print('        file : {}'.format(cfile))\n",
    "    ds_month = xr.open_dataset(cfile).sel(latitude=slice(-60,-90))\n",
    "    \n",
    "    # compute anual mean\n",
    "    ds_annual=ds_month.mean(dim='time')\n",
    "    \n",
    "    # compute global mean time series\n",
    "    # compute weights\n",
    "    weights = np.cos(np.deg2rad(ds_month.latitude,dtype=np.float64))\n",
    "    \n",
    "    # compute weighted xarray\n",
    "    weights.name = \"weights\"\n",
    "    dsw = ds_month.weighted(weights)\n",
    "    \n",
    "    # display anomaly\n",
    "    ds_ts=dsw.mean((\"longitude\", \"latitude\"))\n",
    "    \n",
    "    # plot\n",
    "    #ax = fig.add_subplot(grid[ivar,0:2], projection=ccrs.Robinson(central_longitude=0))\n",
    "    ax = fig.add_subplot(grid[ivar,0], projection=ccrs.Stereographic(central_latitude=-90.0, central_longitude=0.0))\n",
    "    pcol=ax.pcolormesh(ds_annual['longitude'],ds_annual['latitude'],ds_annual[cvar],transform=ccrs.PlateCarree())\n",
    "    ax.coastlines()\n",
    "    XY_lim=[(-180, 180, -90, -60),ccrs.PlateCarree()]\n",
    "    ax.set_extent(XY_lim[0], XY_lim[1])\n",
    "    ax.set_title('annual mean '+fvar+' ['+ds_month[cvar].attrs['units']+']')\n",
    "    plt.colorbar(pcol)\n",
    "\n",
    "    toto=ds_month.mean(dim='longitude')\n",
    "    ax = fig.add_subplot(grid[ivar,1])\n",
    "    pcol=ax.pcolormesh(toto['time'],toto['latitude'],toto[cvar].transpose())\n",
    "    date_form = DateFormatter(\"%m\")\n",
    "    ax.xaxis.set_major_formatter(date_form)\n",
    "    plt.colorbar(pcol)\n",
    "\n",
    "    ax = fig.add_subplot(grid[ivar,2])\n",
    "    ax.plot(ds_ts['time'],ds_ts[cvar])\n",
    "    ax.grid()\n",
    "    ax.set_title('global mean '+fvar+' ['+ds_month[cvar].attrs['units']+']')\n",
    "    date_form = DateFormatter(\"%m\")\n",
    "    ax.xaxis.set_major_formatter(date_form)"
   ]
  },
  {
   "cell_type": "code",
   "execution_count": null,
   "id": "d0f56251",
   "metadata": {},
   "outputs": [],
   "source": [
    "# define figure\n",
    "fig=plt.figure(figsize=(np.array([400,120*6]) / 25.4))\n",
    "grid = plt.GridSpec(len(fvarlst), 3, wspace=0.2, hspace=0.3)\n",
    "\n",
    "# process all data\n",
    "for ivar, fvar in enumerate(fvarlst):\n",
    "    cvar=cvarlst[ivar]\n",
    "    \n",
    "    # load data\n",
    "    print('    load anomaly data ...')\n",
    "    cfile='{}/A1B_{}_3h_ano_{}-19792019.NC'.format(cdir,fvar,period)\n",
    "    print('        file : {}'.format(cfile))\n",
    "    ds_month = xr.open_dataset(cfile).sel(latitude=slice(90,70))\n",
    "    \n",
    "    # compute anual mean\n",
    "    ds_annual=ds_month.mean(dim='time')\n",
    "    \n",
    "    # compute global mean time series\n",
    "    # compute weights\n",
    "    weights = np.cos(np.deg2rad(ds_month.latitude,dtype=np.float64))\n",
    "    \n",
    "    # compute weighted xarray\n",
    "    weights.name = \"weights\"\n",
    "    dsw = ds_month.weighted(weights)\n",
    "    \n",
    "    # display anomaly\n",
    "    ds_ts=dsw.mean((\"longitude\", \"latitude\"))\n",
    "    \n",
    "    # plot\n",
    "    #ax = fig.add_subplot(grid[ivar,0:2], projection=ccrs.Robinson(central_longitude=0))\n",
    "    ax = fig.add_subplot(grid[ivar,0], projection=ccrs.Stereographic(central_latitude=90.0, central_longitude=0.0))\n",
    "    pcol=ax.pcolormesh(ds_annual['longitude'],ds_annual['latitude'],ds_annual[cvar],transform=ccrs.PlateCarree())\n",
    "    ax.coastlines()\n",
    "    XY_lim=[(-180, 180, 60, 90),ccrs.PlateCarree()]\n",
    "    ax.set_extent(XY_lim[0], XY_lim[1])\n",
    "    ax.set_title('annual mean '+fvar+' ['+ds_month[cvar].attrs['units']+']')\n",
    "    plt.colorbar(pcol)\n",
    "\n",
    "    toto=ds_month.mean(dim='longitude')\n",
    "    ax = fig.add_subplot(grid[ivar,1])\n",
    "    pcol=ax.pcolormesh(toto['time'],toto['latitude'],toto[cvar].transpose())\n",
    "    date_form = DateFormatter(\"%m\")\n",
    "    ax.xaxis.set_major_formatter(date_form)\n",
    "    plt.colorbar(pcol)\n",
    "\n",
    "    ax = fig.add_subplot(grid[ivar,2])\n",
    "    ax.plot(ds_ts['time'],ds_ts[cvar])\n",
    "    ax.grid()\n",
    "    ax.set_title('global mean '+fvar+' ['+ds_month[cvar].attrs['units']+']')\n",
    "    date_form = DateFormatter(\"%m\")\n",
    "    ax.xaxis.set_major_formatter(date_form)"
   ]
  }
 ],
 "metadata": {
  "kernelspec": {
   "display_name": "A1B_perturbation",
   "language": "python",
   "name": "a1b_perturbation"
  },
  "language_info": {
   "codemirror_mode": {
    "name": "ipython",
    "version": 3
   },
   "file_extension": ".py",
   "mimetype": "text/x-python",
   "name": "python",
   "nbconvert_exporter": "python",
   "pygments_lexer": "ipython3",
   "version": "3.7.10"
  }
 },
 "nbformat": 4,
 "nbformat_minor": 5
}
