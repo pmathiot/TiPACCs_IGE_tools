{
 "cells": [
  {
   "cell_type": "markdown",
   "id": "cd579e9a",
   "metadata": {},
   "source": [
    "# Notebook to compute requested anomaly for WP1 TiPACCs"
   ]
  },
  {
   "cell_type": "markdown",
   "id": "522b40f9",
   "metadata": {},
   "source": [
    "## Modules"
   ]
  },
  {
   "cell_type": "code",
   "execution_count": null,
   "id": "54dd02e7",
   "metadata": {},
   "outputs": [],
   "source": [
    "import numpy as np\n",
    "import os\n",
    "import copy\n",
    "from datetime import datetime\n",
    "\n",
    "# data\n",
    "import netCDF4 as nc                             # read netcdf\n",
    "import xarray as xr                              # write netcdf"
   ]
  },
  {
   "cell_type": "markdown",
   "id": "8393afb5",
   "metadata": {},
   "source": [
    "## Define data"
   ]
  },
  {
   "cell_type": "code",
   "execution_count": null,
   "id": "402d8306",
   "metadata": {},
   "outputs": [],
   "source": [
    "# tag\n",
    "ctag='y2029.10y'\n",
    "\n",
    "# case\n",
    "cconfcase_ref='eORCA025.L121-OPM021'\n",
    "cconfcase_ano='eORCA025.L121-OPM020'\n",
    "\n",
    "# input file ISMIP6_eORCA025.L121-OPM021_y1999.10y_WP1_TiPACCs.nc\n",
    "cfile_ref='ISMIP6_{}_{}_WP1_TiPACCS.nc'.format(cconfcase_ref,ctag)\n",
    "cfile_ano='ISMIP6_{}_{}_WP1_TiPACCS.nc'.format(cconfcase_ano,ctag)\n",
    "\n",
    "# output file\n",
    "cf_out='ISMIP6_{}_{}_anomaly_WP1_TiPACCs.nc'.format(cconfcase_ano,ctag)"
   ]
  },
  {
   "cell_type": "markdown",
   "id": "18b9171d",
   "metadata": {},
   "source": [
    "## Load data"
   ]
  },
  {
   "cell_type": "code",
   "execution_count": null,
   "id": "e3ebf18b",
   "metadata": {},
   "outputs": [],
   "source": [
    "# dataset in\n",
    "ds_ref=xr.open_dataset(cfile_ref)\n",
    "ds_ano=xr.open_dataset(cfile_ano)\n",
    "\n",
    "# data set out\n",
    "ds_out=xr.open_dataset(cfile_ano)"
   ]
  },
  {
   "cell_type": "code",
   "execution_count": null,
   "id": "f5400a40",
   "metadata": {},
   "outputs": [],
   "source": [
    "ds_out"
   ]
  },
  {
   "cell_type": "markdown",
   "id": "b646deeb",
   "metadata": {},
   "source": [
    "## Compute anomaly"
   ]
  },
  {
   "cell_type": "code",
   "execution_count": null,
   "id": "931c15f4",
   "metadata": {},
   "outputs": [],
   "source": [
    "for cvar in ['thetao','so','tob','sob','ficeshelf']:\n",
    "    dataout=ds_ano[cvar].to_masked_array() - ds_ref[cvar].to_masked_array()\n",
    "    minval=np.min(dataout)\n",
    "    maxval=np.max(dataout)\n",
    "    clong_name=ds_ano[cvar].attrs['long_name']+' anomaly'\n",
    "    ds_out[cvar].values = np.ma.masked_invalid(dataout).filled(fill_value=-9999.99)\n",
    "    ds_out[cvar].attrs['valid_min']=minval\n",
    "    ds_out[cvar].attrs['valid_max']=maxval\n",
    "    ds_out[cvar].attrs['long_name']=clong_name\n",
    "    ds_out=ds_out.rename({cvar : 'd_'+cvar})"
   ]
  },
  {
   "cell_type": "markdown",
   "id": "efaaf0a7",
   "metadata": {},
   "source": [
    "## write file"
   ]
  },
  {
   "cell_type": "code",
   "execution_count": null,
   "id": "d30d5865",
   "metadata": {},
   "outputs": [],
   "source": [
    "# global attributes\n",
    "dgatt = {'description' : 'The above anomaly file is the differences between a tipped state and a reference state',\n",
    "         'source' :'{} - {} NEMO simulations'.format(cconfcase_ano,cconfcase_ref),\n",
    "         'model time' : '10 years average starting 01/01/1999',\n",
    "         'grid'   : 'ISMIP6',\n",
    "         'contact':'P. Mathiot (IGE)',\n",
    "         'creation date':'{}'.format(datetime.now()),\n",
    "        }\n",
    "\n",
    "print('    write global att')\n",
    "ds_out.attrs = dgatt\n",
    "\n",
    "print('    write netcdf ...')\n",
    "ds_out.to_netcdf(cf_out)\n",
    "print('--------------------------------')"
   ]
  }
 ],
 "metadata": {
  "kernelspec": {
   "display_name": "NEMO_to_ISMIP6",
   "language": "python",
   "name": "nemo_to_ismip6"
  },
  "language_info": {
   "codemirror_mode": {
    "name": "ipython",
    "version": 3
   },
   "file_extension": ".py",
   "mimetype": "text/x-python",
   "name": "python",
   "nbconvert_exporter": "python",
   "pygments_lexer": "ipython3",
   "version": "3.7.10"
  }
 },
 "nbformat": 4,
 "nbformat_minor": 5
}
